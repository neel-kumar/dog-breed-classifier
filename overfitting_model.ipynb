{
 "cells": [
  {
   "cell_type": "code",
   "execution_count": 1,
   "metadata": {},
   "outputs": [],
   "source": [
    "from PIL import Image\n",
    "import sys\n",
    "import os\n",
    "import pandas as pd\n",
    "import matplotlib\n",
    "import pickle\n",
    "import torch\n",
    "from torch import nn\n",
    "import torch.nn.functional as F\n",
    "import matplotlib.pyplot as plt\n",
    "import matplotlib.image as mpimg\n",
    "import numpy as np\n",
    "import random\n",
    "import re\n",
    "from datetime import datetime\n",
    "import random"
   ]
  },
  {
   "cell_type": "code",
   "execution_count": 2,
   "metadata": {},
   "outputs": [],
   "source": [
    "debug = True\n",
    "l = 100\n",
    "w = 100"
   ]
  },
  {
   "cell_type": "code",
   "execution_count": 3,
   "metadata": {},
   "outputs": [
    {
     "name": "stdout",
     "output_type": "stream",
     "text": [
      "Walker_hound\n"
     ]
    }
   ],
   "source": [
    "def imgDim(filename):\n",
    "    img = Image.open(filename)\n",
    "    #img.show()\n",
    "    return img.size\n",
    "\n",
    "def listFiles():\n",
    "    lst = []\n",
    "    width = []\n",
    "    length = []\n",
    "    for dirpath, dirnames, filenames in os.walk(\"Images\"):\n",
    "        for file in filenames:\n",
    "            filepath = os.path.join(dirpath, file)\n",
    "            lst.append(filepath)\n",
    "            width.append(imgDim(filepath)[0])\n",
    "            length.append(imgDim(filepath)[1])\n",
    "    return (lst, width, length)\n",
    "\n",
    "def avgFileDim(jpgs):\n",
    "    avg_width = 0\n",
    "    avg_height = 0\n",
    "    for jpg in jpgs:\n",
    "        avg_width = avg_width + imgDim(jpg)[0]\n",
    "        avg_height = avg_height + imgDim(jpg)[1]\n",
    "    avg_width = avg_width/len(jpgs)\n",
    "    avg_height = avg_height/len(jpgs)\n",
    "    return (avg_width, avg_height)\n",
    "\n",
    "def imgResize(filename, length, width):\n",
    "    img = Image.open(filename)\n",
    "    dim = img.size\n",
    "    if debug:\n",
    "        print(\"Image \", filename, \" Original size: \", dim)\n",
    "        img.show()\n",
    "    if dim[0] > width:\n",
    "        length_resize = int(dim[1]/(dim[0]/width))\n",
    "        img = img.resize((width, length_resize))\n",
    "        if debug:\n",
    "            print(\"Size after 1st resize: \", img.size)\n",
    "        dim = img.size\n",
    "        if dim[1] > length:\n",
    "            width_resize = int(dim[0]/(dim[1]/length))\n",
    "            img = img.resize((width_resize, length))\n",
    "            if debug:\n",
    "                print(\"Size after 2nd resize: \", img.size)\n",
    "    elif dim[1] > length:\n",
    "        width_resize = int(dim[0]/(dim[1]/length))\n",
    "        img = img.resize((width_resize, length))\n",
    "    if debug:\n",
    "        print(\"Size after resize: \", img.size)\n",
    "        img.show()\n",
    "    return img\n",
    "\n",
    "def NN_img_resize(filename, length, width):\n",
    "    img = imgResize(filename, length, width)\n",
    "    (img_width, img_length) = img.size\n",
    "    np_img = np.asarray(img)\n",
    "    # https://towardsdatascience.com/a-beginners-tutorial-on-building-an-ai-image-classifier-using-pytorch-6f85cb69cba7\n",
    "    # Make the color channel dimension first instead of last\n",
    "    if debug:\n",
    "        print(\"Shape before transpose \", np_img.shape)\n",
    "    np_img = np_img.transpose((2, 0, 1))\n",
    "    if debug:\n",
    "        print(\"Shape after transpose \", np_img.shape)\n",
    "        # Image.fromarray(np_img)\n",
    "        # print(np_img.dtype)\n",
    "        # print(np_img)\n",
    "    #np_img.resize((375, 500, 3))\n",
    "    fin_img = np.zeros((3, width, length), dtype = np.uint8)\n",
    "    if debug: print(fin_img.shape)\n",
    "    fin_img[:3,:img_length,:img_width] = np_img\n",
    "    if debug: print(fin_img.shape)\n",
    "    if debug:\n",
    "        print(\"Final shape: \", fin_img.shape)\n",
    "    return fin_img\n",
    "\n",
    "def file_to_breed(filename):\n",
    "    pattern = re.search(\"n[0-9]+-(.+)\", filename)\n",
    "    breed = pattern.group(1)\n",
    "    return breed\n",
    "\n",
    "def accuracy(prediction, answer):\n",
    "    pred = prediction.argmax(1)\n",
    "    accuracy = pred == answer\n",
    "    accuracy = accuracy.float().mean()\n",
    "    return accuracy\n",
    "\n",
    "print(file_to_breed(\"n93406157384-Walker_hound\"))"
   ]
  },
  {
   "cell_type": "code",
   "execution_count": 4,
   "metadata": {},
   "outputs": [],
   "source": [
    "# import torchvision\n",
    "#ds = torchvision.datasets.ImageFolder(\"Images\")\n",
    "def pil_loader(path):\n",
    "    # open path as file to avoid ResourceWarning (https://github.com/python-pillow/Pillow/issues/835)\n",
    "    with open(path, 'rb') as f:\n",
    "        img = Image.open(f)\n",
    "        return img.convert('RGB')\n",
    "# ds = pil_loader(\"Images/n02086646-Blenheim_spaniel/n02086646_1077.jpg\")\n",
    "# type(ds)"
   ]
  },
  {
   "cell_type": "code",
   "execution_count": 5,
   "metadata": {},
   "outputs": [
    {
     "name": "stdout",
     "output_type": "stream",
     "text": [
      "Image  Images/n02086646-Blenheim_spaniel/n02086646_1077.jpg  Original size:  (97, 134)\n",
      "Size after resize:  (72, 100)\n",
      "Shape before transpose  (100, 72, 3)\n",
      "Shape after transpose  (3, 100, 72)\n",
      "(3, 100, 100)\n",
      "(3, 100, 100)\n",
      "Final shape:  (3, 100, 100)\n"
     ]
    }
   ],
   "source": [
    "debug = True\n",
    "ii = \"Images/n02112137-chow/n02112137_2947.jpg\"\n",
    "#ii = \"Images/n02105855-Shetland_sheepdog/n02105855_2933.jpg\"\n",
    "ii = \"Images/n02086646-Blenheim_spaniel/n02086646_1077.jpg\"\n",
    "NN_img_resize(ii, l, w)\n",
    "debug = False"
   ]
  },
  {
   "cell_type": "code",
   "execution_count": 6,
   "metadata": {},
   "outputs": [],
   "source": [
    "def split_train_test_val(dirname, train_percent, test_percent):\n",
    "    trainAns = []\n",
    "    trainData = []\n",
    "    testAns = []\n",
    "    testData = []\n",
    "    valAns = []\n",
    "    valData = []\n",
    "    \n",
    "    for dirpath, dirnames, filenames in os.walk(dirname):\n",
    "        for dirn in dirnames:\n",
    "            for dirpath, dirnames, filenames in os.walk(\"Images/\" + str(dirn)):\n",
    "                filenames = [dirpath + \"/\" + e for e in filenames]\n",
    "                try:\n",
    "                    filenames.remove(\"Images/n02105855-Shetland_sheepdog/n02105855_2933.jpg\")\n",
    "                except:\n",
    "                    pass\n",
    "                train_num = int((len(filenames) * (train_percent/100)) + 0.5)\n",
    "                test_val_num = int((len(filenames) * (test_percent/100)) + 0.5)\n",
    "                dirn = dirn[dirn.find(\"-\")+1:]\n",
    "                trainAns.append(str(dirn))\n",
    "                trainData.append(filenames[0:train_num])\n",
    "                testAns.append(str(dirn))\n",
    "                testData.append(filenames[train_num:(train_num + test_val_num)])\n",
    "                valAns.append(str(dirn))\n",
    "                valData.append(filenames[(train_num + test_val_num):])\n",
    "    return trainAns, trainData, testAns, testData, valAns, valData"
   ]
  },
  {
   "cell_type": "code",
   "execution_count": 7,
   "metadata": {},
   "outputs": [],
   "source": [
    "def resize_images(filenames):\n",
    "    trainData_list = []\n",
    "    for i in range(0, len(filenames)-1):\n",
    "        trainData_list.append([])\n",
    "        for j in range(0, len(filenames[i])-1):\n",
    "            trainData_list[i].append(NN_img_resize(filenames[i][j], l, w))\n",
    "    return trainData_list\n",
    "\n",
    "def resize_n_split_train_test_val():\n",
    "    trainAns_filename, trainData_filename, testAns_filename, testData_filename, valAns_filename, valData_filename = split_train_test_val(\"Images\", 80, 10)\n",
    "\n",
    "    # need to make trainData a torch tensor\n",
    "    trainData_list = resize_images(trainData_filename)\n",
    "    testData_list = resize_images(testData_filename)\n",
    "    valData_list = resize_images(valData_filename)\n",
    "\n",
    "    print(trainAns_filename)\n",
    "    return trainData_list, testData_list, valData_list"
   ]
  },
  {
   "cell_type": "code",
   "execution_count": 8,
   "metadata": {},
   "outputs": [],
   "source": [
    "def data2xy(data):\n",
    "    x = []\n",
    "    y = []\n",
    "    for i, images in enumerate(data):\n",
    "        for j in images:\n",
    "            x.append(j)\n",
    "            y.append(i)\n",
    "    return x,y"
   ]
  },
  {
   "cell_type": "code",
   "execution_count": 9,
   "metadata": {},
   "outputs": [],
   "source": [
    "breed2num = {}\n",
    "num2breed = {}\n",
    "\n",
    "i = 0\n",
    "for dirpath, dirnames, filenames in os.walk(\"Images\"):\n",
    "    for dirname in dirnames:\n",
    "        breed = file_to_breed(dirname)\n",
    "        breed2num[breed] = i\n",
    "        num2breed[i] = breed\n",
    "\n",
    "        i = i + 1\n",
    "\n",
    "# print(breed2num)\n",
    "# print(num2breed)"
   ]
  },
  {
   "cell_type": "code",
   "execution_count": 10,
   "metadata": {},
   "outputs": [],
   "source": [
    "# Images/n02105855-Shetland_sheepdog/n02105855_2933.jpg\n",
    "def filenames2xy(filenames):\n",
    "    x = []\n",
    "    y = []\n",
    "    for file in filenames:\n",
    "        # print(file)\n",
    "        y.append(breed2num[re.search(\"n\\d+-([\\w\\-]+)\", file).group(1)])\n",
    "        x.append(NN_img_resize(file, l, w))\n",
    "    return x,y"
   ]
  },
  {
   "cell_type": "code",
   "execution_count": 11,
   "metadata": {},
   "outputs": [],
   "source": [
    "trainAns_filename, trainData_filename, testAns_filename, testData_filename, valAns_filename, valData_filename = split_train_test_val(\"Images\", 80, 10)"
   ]
  },
  {
   "cell_type": "code",
   "execution_count": 12,
   "metadata": {},
   "outputs": [],
   "source": [
    "def flatten(list_of_lists):\n",
    "    return [item for sublist in list_of_lists for item in sublist]"
   ]
  },
  {
   "cell_type": "code",
   "execution_count": 13,
   "metadata": {},
   "outputs": [],
   "source": [
    "trainData_filename = flatten(trainData_filename)\n",
    "random.shuffle(trainData_filename)\n",
    "\n",
    "testData_filename = flatten(testData_filename)\n",
    "random.shuffle(testData_filename)\n",
    "\n",
    "valData_filename = flatten(valData_filename)\n",
    "random.shuffle(valData_filename)"
   ]
  },
  {
   "cell_type": "code",
   "execution_count": 14,
   "metadata": {},
   "outputs": [],
   "source": [
    "# more complex network\n",
    "class deepDogs(nn.Module):\n",
    "    def __init__(self, dp):\n",
    "        super().__init__()\n",
    "        self.dp = dp\n",
    "        # l by w\n",
    "        self.l1 = nn.Conv2d(3, 400, 3, 1, 1)\n",
    "        self.l2 = nn.AvgPool2d(2, 2)\n",
    "        self.l2_drop = nn.Dropout2d(self.dp)\n",
    "        # l/2 by w/2\n",
    "        self.l3 = nn.Conv2d(400, 300, 3, 1, 1)\n",
    "        self.l4 = nn.AvgPool2d(2, 2)\n",
    "        self.l4_drop = nn.Dropout2d(self.dp)\n",
    "        # l/4 by w/4\n",
    "        self.l5 = nn.Conv2d(300, 200, 3, 1, 1)\n",
    "        # self.l6 = nn.AvgPool2d(1, 1)\n",
    "        # l/4 by w/4\n",
    "        self.l7 = nn.Conv2d(200, 50, 3, 1, 1)\n",
    "        self.l7_drop = nn.Dropout2d(self.dp)\n",
    "        # self.l8 = nn.AvgPool2d(1, 1)\n",
    "        # l/4 by w/4\n",
    "        # self.l9 = nn.Linear((l//4)*(w//4)*50, (l//4)*(w//4)*50)\n",
    "        self.l10 = nn.Linear((l//4)*(w//4)*50, (l//4)*(w//4)*20)\n",
    "        # 1 by l*w*40\n",
    "        self.lF = nn.Linear((l//4)*(w//4)*20, 120)\n",
    "        # 1 by l*w*20\n",
    "        \n",
    "    def forward(self, d):\n",
    "        d = self.l1(d)\n",
    "        d = F.relu(d)\n",
    "        d = self.l2_drop(self.l2(d))\n",
    "        d = F.relu(d)\n",
    "        d = self.l3(d)\n",
    "        d = F.relu(d)\n",
    "        d = self.l4_drop(self.l4(d))\n",
    "        d = F.relu(d)\n",
    "        d = self.l5(d)\n",
    "        d = F.relu(d)\n",
    "        # d = self.l6(d)\n",
    "        d = F.relu(d)\n",
    "        d = self.l7_drop(self.l7(d))\n",
    "        d = F.relu(d)\n",
    "        # d = self.l8(d)\n",
    "        d = F.relu(d)\n",
    "        d = d.view(-1, (l//4)*(w//4)*50)\n",
    "        # d = self.l9(d)\n",
    "        # d = d.view(-1, (l//4)*(w//4)*50)\n",
    "        d = self.l10(d)\n",
    "        # d = d.view(-1, (l//4)*(w//4)*50)\n",
    "        d = self.lF(d)\n",
    "        return d"
   ]
  },
  {
   "cell_type": "code",
   "execution_count": 16,
   "metadata": {},
   "outputs": [],
   "source": [
    "lr = 0.01\n",
    "epochs = 50\n",
    "bs = 80\n",
    "n = len(trainData_filename)\n",
    "\n",
    "# dev = torch.device(\"cuda\") if torch.cuda.is_available() else torch.device(\"cpu\")\n",
    "cpu = torch.device(\"cpu\")\n",
    "dev = torch.device(\"cuda\")"
   ]
  },
  {
   "cell_type": "code",
   "execution_count": 17,
   "metadata": {},
   "outputs": [
    {
     "data": {
      "text/plain": [
       "(16468, 2063, 2048)"
      ]
     },
     "execution_count": 17,
     "metadata": {},
     "output_type": "execute_result"
    }
   ],
   "source": [
    "len(trainData_filename),len(testData_filename),len(valData_filename)"
   ]
  },
  {
   "cell_type": "code",
   "execution_count": 18,
   "metadata": {},
   "outputs": [
    {
     "name": "stdout",
     "output_type": "stream",
     "text": [
      "2020-04-04 18:56:59.720151\n",
      "2020-04-04 18:57:38.009825\n"
     ]
    }
   ],
   "source": [
    "print (datetime.now())\n",
    "x_train,y_train = filenames2xy(trainData_filename)\n",
    "x_test,y_test = filenames2xy(testData_filename)\n",
    "x_val,y_val = filenames2xy(valData_filename)\n",
    "print (datetime.now())"
   ]
  },
  {
   "cell_type": "code",
   "execution_count": 19,
   "metadata": {},
   "outputs": [
    {
     "name": "stdout",
     "output_type": "stream",
     "text": [
      "2020-04-04 18:57:38.014261\n",
      "2020-04-04 18:58:25.835318\n"
     ]
    }
   ],
   "source": [
    "print (datetime.now())\n",
    "y_train = torch.tensor(y_train)\n",
    "y_test = torch.tensor(y_test)\n",
    "y_val = torch.tensor(y_val)\n",
    "\n",
    "x_train = torch.tensor(x_train, dtype=torch.float)\n",
    "x_test = torch.tensor(x_test, dtype=torch.float)\n",
    "x_val = torch.tensor(x_val, dtype=torch.float)\n",
    "print (datetime.now())"
   ]
  },
  {
   "cell_type": "code",
   "execution_count": 20,
   "metadata": {},
   "outputs": [
    {
     "data": {
      "text/plain": [
       "0"
      ]
     },
     "execution_count": 20,
     "metadata": {},
     "output_type": "execute_result"
    }
   ],
   "source": [
    "torch.cuda.memory_allocated()"
   ]
  },
  {
   "cell_type": "code",
   "execution_count": 21,
   "metadata": {},
   "outputs": [
    {
     "name": "stdout",
     "output_type": "stream",
     "text": [
      "2020-04-04 18:58:26.005554\n",
      "2020-04-04 18:58:28.799995\n"
     ]
    }
   ],
   "source": [
    "print (datetime.now())\n",
    "model_dev = deepDogs(0.5).to(dev)\n",
    "loss_func = F.cross_entropy\n",
    "\n",
    "x = np.linspace(0, epochs + 1, epochs + 1)\n",
    "train_y_dev = torch.zeros(epochs + 1, device=dev)\n",
    "test_y_dev = torch.zeros(epochs + 1, device=dev)\n",
    "val_y_dev = torch.zeros(epochs + 1, device=dev)\n",
    "print (datetime.now())"
   ]
  },
  {
   "cell_type": "code",
   "execution_count": 22,
   "metadata": {},
   "outputs": [
    {
     "data": {
      "text/plain": [
       "1575441920"
      ]
     },
     "execution_count": 22,
     "metadata": {},
     "output_type": "execute_result"
    }
   ],
   "source": [
    "torch.cuda.memory_allocated()"
   ]
  },
  {
   "cell_type": "code",
   "execution_count": 23,
   "metadata": {},
   "outputs": [],
   "source": [
    "def accuracy_bs(x, y):\n",
    "    n = len(x)\n",
    "    pred = torch.zeros((n, 120), dtype=torch.float)\n",
    "    for i in range(int((n - 1)/bs) + 1):\n",
    "        start = bs * i\n",
    "        end = bs * (i + 1)\n",
    "        x_dev = x[start:end].float().div(255).to(dev)\n",
    "        output = model_dev(x_dev).to(cpu).detach()\n",
    "        pred[start:end] = output\n",
    "    return accuracy(pred, y)"
   ]
  },
  {
   "cell_type": "code",
   "execution_count": 24,
   "metadata": {},
   "outputs": [],
   "source": [
    "def if_nan(tensor,  name):\n",
    "    has_nan = (tensor != tensor)\n",
    "    if has_nan.any():\n",
    "        print(\"nan in \", name)\n",
    "        print(tensor)\n",
    "        print(has_nan.argmax(dim=1))\n",
    "        return True\n",
    "    if torch.isnan(tensor).any() or torch.isinf(tensor).any():\n",
    "        print(\"nan or inf in \", name)\n",
    "        return True\n",
    "    return False"
   ]
  },
  {
   "cell_type": "code",
   "execution_count": 25,
   "metadata": {},
   "outputs": [],
   "source": [
    "def print_parameters():\n",
    "    total = 0\n",
    "    print(\"Model's state_dict:\")\n",
    "    for param_name in model_dev.state_dict():\n",
    "        p = model_dev.state_dict()[param_name]\n",
    "        print(param_name, p.size(), p.element_size(), p.nelement());\n",
    "        total += p.element_size() * p.nelement()\n",
    "    print(\"Total size is \", total/(2**30))"
   ]
  },
  {
   "cell_type": "code",
   "execution_count": 26,
   "metadata": {},
   "outputs": [],
   "source": [
    "def fit():\n",
    "    train_y_dev[0] = accuracy_bs(x_train, y_train)\n",
    "    test_y_dev[0] = accuracy_bs(x_test, y_test)\n",
    "    val_y_dev[0] = accuracy_bs(x_val, y_val)\n",
    "    \n",
    "    for e in range(epochs):\n",
    "        model_dev.train()\n",
    "        print(datetime.now(), \"epoch\", e)\n",
    "        # the data order is random\n",
    "        random.shuffle(trainData_filename)\n",
    "        for i in range(int((n - 1)/bs) + 1):\n",
    "            start = bs * i\n",
    "            end = bs * (i + 1)\n",
    "            x_train_bs,y_train_bs = filenames2xy(trainData_filename[start:end])\n",
    "            x_train_bs = torch.tensor(x_train_bs).float().div(255).to(dev)\n",
    "            y_train_bs = torch.tensor(y_train_bs).to(dev)\n",
    "            if_nan(x_train_bs, \"x_train\")\n",
    "            pred = model_dev(x_train_bs)\n",
    "            if if_nan(pred, \"pred\"): print_parameters(); print(trainData_filename[start:end])\n",
    "            loss = loss_func(pred, y_train_bs)\n",
    "            if_nan(loss, \"loss\")\n",
    "            loss.backward()\n",
    "        \n",
    "            with torch.no_grad():\n",
    "                for p in model_dev.parameters():\n",
    "                    p -= p.grad * lr\n",
    "                    if_nan(p, \"p\")\n",
    "                model_dev.zero_grad()\n",
    "        model_dev.eval()\n",
    "        with torch.no_grad():\n",
    "            acc_train = accuracy_bs(x_train, y_train)\n",
    "            acc_test = accuracy_bs(x_test, y_test)\n",
    "            acc_val = accuracy_bs(x_val, y_val)\n",
    "            train_y_dev[e + 1] = acc_train\n",
    "            test_y_dev[e + 1] = acc_test\n",
    "            val_y_dev[e + 1] = acc_val\n",
    "            print(\"Epoch {} acc_train {} acc_test {} acc_val {}\".format(e, acc_train, acc_test, acc_val))\n",
    "    \n",
    "    model_dev.eval()\n",
    "    \n",
    "    plt.plot(x, train_y_dev.cpu().numpy(), label='train')\n",
    "    plt.plot(x, test_y_dev.cpu().numpy(), label='test')\n",
    "    plt.plot(x, val_y_dev.cpu().numpy(), label='val')\n",
    "    plt.xlabel('epochs')\n",
    "    plt.ylabel('acc')\n",
    "    plt.title(\"Accuracy Plot\")\n",
    "    plt.legend()\n",
    "    plt.show()"
   ]
  },
  {
   "cell_type": "code",
   "execution_count": 27,
   "metadata": {
    "scrolled": true
   },
   "outputs": [
    {
     "name": "stdout",
     "output_type": "stream",
     "text": [
      "2020-04-04 18:58:51.909367 epoch 0\n",
      "Epoch 0 acc_train 0.011416079476475716 acc_test 0.012118274345993996 acc_val 0.01123046875\n",
      "2020-04-04 19:01:24.388498 epoch 1\n",
      "Epoch 1 acc_train 0.014573718421161175 acc_test 0.014541929587721825 acc_val 0.01611328125\n",
      "2020-04-04 19:03:56.872887 epoch 2\n",
      "Epoch 2 acc_train 0.030119018629193306 acc_test 0.029568590223789215 acc_val 0.0205078125\n",
      "2020-04-04 19:06:29.400651 epoch 3\n",
      "Epoch 3 acc_train 0.03364099934697151 acc_test 0.029568590223789215 acc_val 0.03125\n",
      "2020-04-04 19:09:02.037757 epoch 4\n",
      "Epoch 4 acc_train 0.03673791512846947 acc_test 0.03490063175559044 acc_val 0.02685546875\n",
      "2020-04-04 19:11:34.885453 epoch 5\n",
      "Epoch 5 acc_train 0.04366043210029602 acc_test 0.0382937453687191 acc_val 0.0341796875\n",
      "2020-04-04 19:14:07.676674 epoch 6\n",
      "Epoch 6 acc_train 0.043053194880485535 acc_test 0.036354824900627136 acc_val 0.0322265625\n",
      "2020-04-04 19:16:40.278363 epoch 7\n",
      "Epoch 7 acc_train 0.051736701279878616 acc_test 0.03587009385228157 acc_val 0.03662109375\n",
      "2020-04-04 19:19:12.747343 epoch 8\n",
      "Epoch 8 acc_train 0.050097156316041946 acc_test 0.03732428327202797 acc_val 0.0322265625\n",
      "2020-04-04 19:21:45.263341 epoch 9\n",
      "Epoch 9 acc_train 0.05732329189777374 acc_test 0.03490063175559044 acc_val 0.03271484375\n",
      "2020-04-04 19:24:17.708285 epoch 10\n",
      "Epoch 10 acc_train 0.061391789466142654 acc_test 0.03877847641706467 acc_val 0.03271484375\n",
      "2020-04-04 19:26:50.245392 epoch 11\n",
      "Epoch 11 acc_train 0.07092542946338654 acc_test 0.04314105585217476 acc_val 0.03564453125\n",
      "2020-04-04 19:29:22.712679 epoch 12\n",
      "Epoch 12 acc_train 0.07268641889095306 acc_test 0.04265632480382919 acc_val 0.03466796875\n",
      "2020-04-04 19:31:55.309440 epoch 13\n",
      "Epoch 13 acc_train 0.07608695328235626 acc_test 0.0382937453687191 acc_val 0.037109375\n",
      "2020-04-04 19:34:27.724680 epoch 14\n",
      "Epoch 14 acc_train 0.08343453705310822 acc_test 0.03926320746541023 acc_val 0.03515625\n",
      "2020-04-04 19:37:00.209046 epoch 15\n",
      "Epoch 15 acc_train 0.09163225442171097 acc_test 0.04314105585217476 acc_val 0.03662109375\n",
      "2020-04-04 19:39:32.602735 epoch 16\n",
      "Epoch 16 acc_train 0.09418265521526337 acc_test 0.04217159375548363 acc_val 0.03955078125\n",
      "2020-04-04 19:42:05.061601 epoch 17\n",
      "Epoch 17 acc_train 0.11513237655162811 acc_test 0.04217159375548363 acc_val 0.03515625\n",
      "2020-04-04 19:44:37.473844 epoch 18\n",
      "Epoch 18 acc_train 0.1278843879699707 acc_test 0.043625786900520325 acc_val 0.03955078125\n",
      "2020-04-04 19:47:09.851089 epoch 19\n",
      "Epoch 19 acc_train 0.1583070158958435 acc_test 0.03877847641706467 acc_val 0.03857421875\n",
      "2020-04-04 19:49:42.322800 epoch 20\n",
      "Epoch 20 acc_train 0.17834588885307312 acc_test 0.040232669562101364 acc_val 0.04638671875\n",
      "2020-04-04 19:52:14.760047 epoch 21\n",
      "Epoch 21 acc_train 0.2142336666584015 acc_test 0.04265632480382919 acc_val 0.04296875\n",
      "2020-04-04 19:54:47.149972 epoch 22\n",
      "Epoch 22 acc_train 0.2672455608844757 acc_test 0.049442559480667114 acc_val 0.0458984375\n",
      "2020-04-04 19:57:19.667545 epoch 23\n",
      "Epoch 23 acc_train 0.3342846632003784 acc_test 0.0581677183508873 acc_val 0.05029296875\n",
      "2020-04-04 19:59:52.260722 epoch 24\n",
      "Epoch 24 acc_train 0.40247753262519836 acc_test 0.04847309738397598 acc_val 0.05126953125\n",
      "2020-04-04 20:02:24.794240 epoch 25\n",
      "Epoch 25 acc_train 0.5050400495529175 acc_test 0.04895782843232155 acc_val 0.0556640625\n",
      "2020-04-04 20:04:57.312321 epoch 26\n",
      "Epoch 26 acc_train 0.5847097635269165 acc_test 0.049442559480667114 acc_val 0.052734375\n",
      "2020-04-04 20:07:29.815178 epoch 27\n",
      "Epoch 27 acc_train 0.6766456365585327 acc_test 0.05186621472239494 acc_val 0.05859375\n",
      "2020-04-04 20:10:02.294603 epoch 28\n",
      "Epoch 28 acc_train 0.7354869842529297 acc_test 0.04992729052901268 acc_val 0.056640625\n",
      "2020-04-04 20:12:34.791945 epoch 29\n",
      "Epoch 29 acc_train 0.8410857319831848 acc_test 0.047018904238939285 acc_val 0.052734375\n",
      "2020-04-04 20:15:07.278001 epoch 30\n",
      "Epoch 30 acc_train 0.8869322538375854 acc_test 0.05089675262570381 acc_val 0.05322265625\n",
      "2020-04-04 20:17:39.720931 epoch 31\n",
      "Epoch 31 acc_train 0.9261597990989685 acc_test 0.04750363528728485 acc_val 0.0498046875\n",
      "2020-04-04 20:20:12.265339 epoch 32\n",
      "Epoch 32 acc_train 0.9491134285926819 acc_test 0.049442559480667114 acc_val 0.05078125\n",
      "2020-04-04 20:22:44.847432 epoch 33\n",
      "Epoch 33 acc_train 0.9761962890625 acc_test 0.043625786900520325 acc_val 0.0537109375\n",
      "2020-04-04 20:25:17.375695 epoch 34\n",
      "Epoch 34 acc_train 0.9857298731803894 acc_test 0.04750363528728485 acc_val 0.05029296875\n",
      "2020-04-04 20:27:49.820272 epoch 35\n",
      "Epoch 35 acc_train 0.9907092452049255 acc_test 0.04895782843232155 acc_val 0.04931640625\n",
      "2020-04-04 20:30:22.387899 epoch 36\n",
      "Epoch 36 acc_train 0.9935025572776794 acc_test 0.05089675262570381 acc_val 0.0517578125\n",
      "2020-04-04 20:32:54.828982 epoch 37\n",
      "Epoch 37 acc_train 0.9959315061569214 acc_test 0.05138148367404938 acc_val 0.05029296875\n",
      "2020-04-04 20:35:27.278581 epoch 38\n",
      "Epoch 38 acc_train 0.9965387582778931 acc_test 0.05186621472239494 acc_val 0.0478515625\n",
      "2020-04-04 20:37:59.778820 epoch 39\n",
      "Epoch 39 acc_train 0.9973281621932983 acc_test 0.044595248997211456 acc_val 0.05517578125\n",
      "2020-04-04 20:40:32.280702 epoch 40\n",
      "Epoch 40 acc_train 0.9974495768547058 acc_test 0.04798836633563042 acc_val 0.05126953125\n",
      "2020-04-04 20:43:04.788852 epoch 41\n",
      "Epoch 41 acc_train 0.9978746771812439 acc_test 0.049442559480667114 acc_val 0.04931640625\n",
      "2020-04-04 20:45:37.179791 epoch 42\n",
      "Epoch 42 acc_train 0.9981175661087036 acc_test 0.04411051794886589 acc_val 0.05029296875\n",
      "2020-04-04 20:48:09.615993 epoch 43\n",
      "Epoch 43 acc_train 0.99793541431427 acc_test 0.04750363528728485 acc_val 0.056640625\n",
      "2020-04-04 20:50:42.077673 epoch 44\n",
      "Epoch 44 acc_train 0.9982389807701111 acc_test 0.047018904238939285 acc_val 0.05322265625\n",
      "2020-04-04 20:53:14.593881 epoch 45\n",
      "Epoch 45 acc_train 0.9981783032417297 acc_test 0.05186621472239494 acc_val 0.0517578125\n",
      "2020-04-04 20:55:47.113880 epoch 46\n",
      "Epoch 46 acc_train 0.9982389807701111 acc_test 0.047018904238939285 acc_val 0.0546875\n",
      "2020-04-04 20:58:19.478492 epoch 47\n",
      "Epoch 47 acc_train 0.9981783032417297 acc_test 0.04895782843232155 acc_val 0.05908203125\n",
      "2020-04-04 21:00:51.902430 epoch 48\n",
      "Epoch 48 acc_train 0.9982389807701111 acc_test 0.05235094577074051 acc_val 0.05126953125\n",
      "2020-04-04 21:03:24.326263 epoch 49\n",
      "Epoch 49 acc_train 0.9982997179031372 acc_test 0.04750363528728485 acc_val 0.0478515625\n"
     ]
    },
    {
     "data": {
      "image/png": "[encoded data removed]",
      "text/plain": [
       "<Figure size 432x288 with 1 Axes>"
      ]
     },
     "metadata": {
      "needs_background": "light"
     },
     "output_type": "display_data"
    }
   ],
   "source": [
    "fit()"
   ]
  }
 ],
 "metadata": {
  "kernelspec": {
   "display_name": "Python 3",
   "language": "python",
   "name": "python3"
  },
  "language_info": {
   "codemirror_mode": {
    "name": "ipython",
    "version": 3
   },
   "file_extension": ".py",
   "mimetype": "text/x-python",
   "name": "python",
   "nbconvert_exporter": "python",
   "pygments_lexer": "ipython3",
   "version": "3.7.4"
  }
 },
 "nbformat": 4,
 "nbformat_minor": 2
}
