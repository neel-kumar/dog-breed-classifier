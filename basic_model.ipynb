{
 "cells": [
  {
   "cell_type": "code",
   "execution_count": 1,
   "metadata": {},
   "outputs": [],
   "source": [
    "from PIL import Image\n",
    "import sys\n",
    "import os\n",
    "import pandas as pd\n",
    "import matplotlib\n",
    "import pickle\n",
    "import torch\n",
    "from torch import nn\n",
    "import torch.nn.functional as F\n",
    "import matplotlib.pyplot as plt\n",
    "import matplotlib.image as mpimg\n",
    "import numpy as np\n",
    "import random\n",
    "import re\n",
    "from datetime import datetime\n",
    "import random"
   ]
  },
  {
   "cell_type": "code",
   "execution_count": 2,
   "metadata": {},
   "outputs": [],
   "source": [
    "debug = True\n",
    "l = 100\n",
    "w = 100"
   ]
  },
  {
   "cell_type": "code",
   "execution_count": 3,
   "metadata": {},
   "outputs": [
    {
     "name": "stdout",
     "output_type": "stream",
     "text": [
      "Walker_hound\n"
     ]
    }
   ],
   "source": [
    "def imgDim(filename):\n",
    "    img = Image.open(filename)\n",
    "    #img.show()\n",
    "    return img.size\n",
    "\n",
    "def listFiles():\n",
    "    lst = []\n",
    "    width = []\n",
    "    length = []\n",
    "    for dirpath, dirnames, filenames in os.walk(\"Images\"):\n",
    "        for file in filenames:\n",
    "            filepath = os.path.join(dirpath, file)\n",
    "            lst.append(filepath)\n",
    "            width.append(imgDim(filepath)[0])\n",
    "            length.append(imgDim(filepath)[1])\n",
    "    return (lst, width, length)\n",
    "\n",
    "def avgFileDim(jpgs):\n",
    "    avg_width = 0\n",
    "    avg_height = 0\n",
    "    for jpg in jpgs:\n",
    "        avg_width = avg_width + imgDim(jpg)[0]\n",
    "        avg_height = avg_height + imgDim(jpg)[1]\n",
    "    avg_width = avg_width/len(jpgs)\n",
    "    avg_height = avg_height/len(jpgs)\n",
    "    return (avg_width, avg_height)\n",
    "\n",
    "def imgResize(filename, length, width):\n",
    "    img = Image.open(filename)\n",
    "    dim = img.size\n",
    "    if debug:\n",
    "        print(\"Image \", filename, \" Original size: \", dim)\n",
    "        img.show()\n",
    "    if dim[0] > width:\n",
    "        length_resize = int(dim[1]/(dim[0]/width))\n",
    "        img = img.resize((width, length_resize))\n",
    "        if debug:\n",
    "            print(\"Size after 1st resize: \", img.size)\n",
    "        dim = img.size\n",
    "        if dim[1] > length:\n",
    "            width_resize = int(dim[0]/(dim[1]/length))\n",
    "            img = img.resize((width_resize, length))\n",
    "            if debug:\n",
    "                print(\"Size after 2nd resize: \", img.size)\n",
    "    elif dim[1] > length:\n",
    "        width_resize = int(dim[0]/(dim[1]/length))\n",
    "        img = img.resize((width_resize, length))\n",
    "    if debug:\n",
    "        print(\"Size after resize: \", img.size)\n",
    "        img.show()\n",
    "    return img\n",
    "\n",
    "def NN_img_resize(filename, length, width):\n",
    "    img = imgResize(filename, length, width)\n",
    "    (img_width, img_length) = img.size\n",
    "    np_img = np.asarray(img)\n",
    "    # https://towardsdatascience.com/a-beginners-tutorial-on-building-an-ai-image-classifier-using-pytorch-6f85cb69cba7\n",
    "    # Make the color channel dimension first instead of last\n",
    "    if debug:\n",
    "        print(\"Shape before transpose \", np_img.shape)\n",
    "    np_img = np_img.transpose((2, 0, 1))\n",
    "    if debug:\n",
    "        print(\"Shape after transpose \", np_img.shape)\n",
    "        # Image.fromarray(np_img)\n",
    "        # print(np_img.dtype)\n",
    "        # print(np_img)\n",
    "    #np_img.resize((375, 500, 3))\n",
    "    fin_img = np.zeros((3, width, length), dtype = np.uint8)\n",
    "    if debug: print(fin_img.shape)\n",
    "    fin_img[:3,:img_length,:img_width] = np_img\n",
    "    if debug: print(fin_img.shape)\n",
    "    if debug:\n",
    "        print(\"Final shape: \", fin_img.shape)\n",
    "    return fin_img\n",
    "\n",
    "def file_to_breed(filename):\n",
    "    pattern = re.search(\"n[0-9]+-(.+)\", filename)\n",
    "    breed = pattern.group(1)\n",
    "    return breed\n",
    "\n",
    "def accuracy(prediction, answer):\n",
    "    pred = prediction.argmax(1)\n",
    "    accuracy = pred == answer\n",
    "    accuracy = accuracy.float().mean()\n",
    "    return accuracy\n",
    "\n",
    "print(file_to_breed(\"n93406157384-Walker_hound\"))"
   ]
  },
  {
   "cell_type": "code",
   "execution_count": 4,
   "metadata": {},
   "outputs": [],
   "source": [
    "# import torchvision\n",
    "#ds = torchvision.datasets.ImageFolder(\"Images\")\n",
    "def pil_loader(path):\n",
    "    # open path as file to avoid ResourceWarning (https://github.com/python-pillow/Pillow/issues/835)\n",
    "    with open(path, 'rb') as f:\n",
    "        img = Image.open(f)\n",
    "        return img.convert('RGB')\n",
    "# ds = pil_loader(\"Images/n02086646-Blenheim_spaniel/n02086646_1077.jpg\")\n",
    "# type(ds)"
   ]
  },
  {
   "cell_type": "code",
   "execution_count": 5,
   "metadata": {},
   "outputs": [
    {
     "name": "stdout",
     "output_type": "stream",
     "text": [
      "Image  Images/n02086646-Blenheim_spaniel/n02086646_1077.jpg  Original size:  (97, 134)\n",
      "Size after resize:  (72, 100)\n",
      "Shape before transpose  (100, 72, 3)\n",
      "Shape after transpose  (3, 100, 72)\n",
      "(3, 100, 100)\n",
      "(3, 100, 100)\n",
      "Final shape:  (3, 100, 100)\n"
     ]
    }
   ],
   "source": [
    "debug = True\n",
    "ii = \"Images/n02112137-chow/n02112137_2947.jpg\"\n",
    "#ii = \"Images/n02105855-Shetland_sheepdog/n02105855_2933.jpg\"\n",
    "ii = \"Images/n02086646-Blenheim_spaniel/n02086646_1077.jpg\"\n",
    "NN_img_resize(ii, l, w)\n",
    "debug = False"
   ]
  },
  {
   "cell_type": "code",
   "execution_count": 6,
   "metadata": {},
   "outputs": [],
   "source": [
    "def split_train_test_val(dirname, train_percent, test_percent):\n",
    "    trainAns = []\n",
    "    trainData = []\n",
    "    testAns = []\n",
    "    testData = []\n",
    "    valAns = []\n",
    "    valData = []\n",
    "    \n",
    "    for dirpath, dirnames, filenames in os.walk(dirname):\n",
    "        for dirn in dirnames:\n",
    "            for dirpath, dirnames, filenames in os.walk(\"Images/\" + str(dirn)):\n",
    "                filenames = [dirpath + \"/\" + e for e in filenames]\n",
    "                try:\n",
    "                    filenames.remove(\"Images/n02105855-Shetland_sheepdog/n02105855_2933.jpg\")\n",
    "                except:\n",
    "                    pass\n",
    "                train_num = int((len(filenames) * (train_percent/100)) + 0.5)\n",
    "                test_val_num = int((len(filenames) * (test_percent/100)) + 0.5)\n",
    "                dirn = dirn[dirn.find(\"-\")+1:]\n",
    "                trainAns.append(str(dirn))\n",
    "                trainData.append(filenames[0:train_num])\n",
    "                testAns.append(str(dirn))\n",
    "                testData.append(filenames[train_num:(train_num + test_val_num)])\n",
    "                valAns.append(str(dirn))\n",
    "                valData.append(filenames[(train_num + test_val_num):])\n",
    "    return trainAns, trainData, testAns, testData, valAns, valData"
   ]
  },
  {
   "cell_type": "code",
   "execution_count": 7,
   "metadata": {},
   "outputs": [],
   "source": [
    "def resize_images(filenames):\n",
    "    trainData_list = []\n",
    "    for i in range(0, len(filenames)-1):\n",
    "        trainData_list.append([])\n",
    "        for j in range(0, len(filenames[i])-1):\n",
    "            trainData_list[i].append(NN_img_resize(filenames[i][j], l, w))\n",
    "    return trainData_list\n",
    "\n",
    "def resize_n_split_train_test_val():\n",
    "    trainAns_filename, trainData_filename, testAns_filename, testData_filename, valAns_filename, valData_filename = split_train_test_val(\"Images\", 80, 10)\n",
    "\n",
    "    # need to make trainData a torch tensor\n",
    "    trainData_list = resize_images(trainData_filename)\n",
    "    testData_list = resize_images(testData_filename)\n",
    "    valData_list = resize_images(valData_filename)\n",
    "\n",
    "    print(trainAns_filename)\n",
    "    return trainData_list, testData_list, valData_list"
   ]
  },
  {
   "cell_type": "code",
   "execution_count": 8,
   "metadata": {},
   "outputs": [],
   "source": [
    "def data2xy(data):\n",
    "    x = []\n",
    "    y = []\n",
    "    for i, images in enumerate(data):\n",
    "        for j in images:\n",
    "            x.append(j)\n",
    "            y.append(i)\n",
    "    return x,y"
   ]
  },
  {
   "cell_type": "code",
   "execution_count": 9,
   "metadata": {},
   "outputs": [],
   "source": [
    "breed2num = {}\n",
    "num2breed = {}\n",
    "\n",
    "i = 0\n",
    "for dirpath, dirnames, filenames in os.walk(\"Images\"):\n",
    "    for dirname in dirnames:\n",
    "        breed = file_to_breed(dirname)\n",
    "        breed2num[breed] = i\n",
    "        num2breed[i] = breed\n",
    "\n",
    "        i = i + 1\n",
    "\n",
    "# print(breed2num)\n",
    "# print(num2breed)"
   ]
  },
  {
   "cell_type": "code",
   "execution_count": 10,
   "metadata": {},
   "outputs": [],
   "source": [
    "# Images/n02105855-Shetland_sheepdog/n02105855_2933.jpg\n",
    "def filenames2xy(filenames):\n",
    "    x = []\n",
    "    y = []\n",
    "    for file in filenames:\n",
    "        # print(file)\n",
    "        y.append(breed2num[re.search(\"n\\d+-([\\w\\-]+)\", file).group(1)])\n",
    "        x.append(NN_img_resize(file, l, w))\n",
    "    return x,y"
   ]
  },
  {
   "cell_type": "code",
   "execution_count": 11,
   "metadata": {},
   "outputs": [],
   "source": [
    "trainAns_filename, trainData_filename, testAns_filename, testData_filename, valAns_filename, valData_filename = split_train_test_val(\"Images\", 80, 10)"
   ]
  },
  {
   "cell_type": "code",
   "execution_count": 12,
   "metadata": {},
   "outputs": [],
   "source": [
    "def flatten(list_of_lists):\n",
    "    return [item for sublist in list_of_lists for item in sublist]"
   ]
  },
  {
   "cell_type": "code",
   "execution_count": 13,
   "metadata": {},
   "outputs": [],
   "source": [
    "trainData_filename = flatten(trainData_filename)\n",
    "random.shuffle(trainData_filename)\n",
    "\n",
    "testData_filename = flatten(testData_filename)\n",
    "random.shuffle(testData_filename)\n",
    "\n",
    "valData_filename = flatten(valData_filename)\n",
    "random.shuffle(valData_filename)"
   ]
  },
  {
   "cell_type": "code",
   "execution_count": 14,
   "metadata": {},
   "outputs": [],
   "source": [
    "# basic network\n",
    "class deepDogs(nn.Module):\n",
    "    def __init__(self):\n",
    "        super().__init__()\n",
    "        # 100 by 100\n",
    "        self.l1 = nn.Conv2d(3, 40, 3, 1, 1)\n",
    "        # 100 by 100\n",
    "        self.l2 = nn.AvgPool2d(5, 5)\n",
    "        # 20 by 20\n",
    "        self.l3 = nn.Linear(20*20*40, 120)\n",
    "        # 1 by 500*375*40\n",
    "        \n",
    "    def forward(self, d):\n",
    "        d = self.l1(d)\n",
    "        d = F.relu(d)\n",
    "        d = self.l2(d)\n",
    "        d = F.relu(d)\n",
    "        d = d.view(-1, 20*20*40)\n",
    "        d = self.l3(d)\n",
    "        return d"
   ]
  },
  {
   "cell_type": "code",
   "execution_count": 15,
   "metadata": {},
   "outputs": [],
   "source": [
    "lr = 0.01\n",
    "epochs = 50\n",
    "bs = 80\n",
    "n = len(trainData_filename)\n",
    "\n",
    "# dev = torch.device(\"cuda\") if torch.cuda.is_available() else torch.device(\"cpu\")\n",
    "cpu = torch.device(\"cpu\")\n",
    "dev = torch.device(\"cuda\")"
   ]
  },
  {
   "cell_type": "code",
   "execution_count": 16,
   "metadata": {},
   "outputs": [
    {
     "data": {
      "text/plain": [
       "(16468, 2063, 2048)"
      ]
     },
     "execution_count": 16,
     "metadata": {},
     "output_type": "execute_result"
    }
   ],
   "source": [
    "len(trainData_filename),len(testData_filename),len(valData_filename)"
   ]
  },
  {
   "cell_type": "code",
   "execution_count": 17,
   "metadata": {},
   "outputs": [
    {
     "name": "stdout",
     "output_type": "stream",
     "text": [
      "2020-04-04 16:15:44.761612\n",
      "2020-04-04 16:16:22.618444\n"
     ]
    }
   ],
   "source": [
    "print (datetime.now())\n",
    "x_train,y_train = filenames2xy(trainData_filename)\n",
    "x_test,y_test = filenames2xy(testData_filename)\n",
    "x_val,y_val = filenames2xy(valData_filename)\n",
    "print (datetime.now())"
   ]
  },
  {
   "cell_type": "code",
   "execution_count": 18,
   "metadata": {},
   "outputs": [
    {
     "name": "stdout",
     "output_type": "stream",
     "text": [
      "2020-04-04 16:16:22.622852\n",
      "2020-04-04 16:17:09.197088\n"
     ]
    }
   ],
   "source": [
    "print (datetime.now())\n",
    "y_train = torch.tensor(y_train)\n",
    "y_test = torch.tensor(y_test)\n",
    "y_val = torch.tensor(y_val)\n",
    "\n",
    "x_train = torch.tensor(x_train, dtype=torch.float)\n",
    "x_test = torch.tensor(x_test, dtype=torch.float)\n",
    "x_val = torch.tensor(x_val, dtype=torch.float)\n",
    "print (datetime.now())"
   ]
  },
  {
   "cell_type": "code",
   "execution_count": 19,
   "metadata": {},
   "outputs": [
    {
     "data": {
      "text/plain": [
       "0"
      ]
     },
     "execution_count": 19,
     "metadata": {},
     "output_type": "execute_result"
    }
   ],
   "source": [
    "torch.cuda.memory_allocated()"
   ]
  },
  {
   "cell_type": "code",
   "execution_count": 20,
   "metadata": {},
   "outputs": [
    {
     "name": "stdout",
     "output_type": "stream",
     "text": [
      "2020-04-04 16:17:09.347172\n",
      "2020-04-04 16:17:10.155530\n"
     ]
    }
   ],
   "source": [
    "print (datetime.now())\n",
    "model_dev = deepDogs().to(dev)\n",
    "loss_func = F.cross_entropy\n",
    "\n",
    "x = np.linspace(0, epochs + 1, epochs + 1)\n",
    "train_y_dev = torch.zeros(epochs + 1, device=dev)\n",
    "test_y_dev = torch.zeros(epochs + 1, device=dev)\n",
    "val_y_dev = torch.zeros(epochs + 1, device=dev)\n",
    "print (datetime.now())"
   ]
  },
  {
   "cell_type": "code",
   "execution_count": 21,
   "metadata": {},
   "outputs": [
    {
     "data": {
      "text/plain": [
       "7687168"
      ]
     },
     "execution_count": 21,
     "metadata": {},
     "output_type": "execute_result"
    }
   ],
   "source": [
    "torch.cuda.memory_allocated()"
   ]
  },
  {
   "cell_type": "code",
   "execution_count": 22,
   "metadata": {},
   "outputs": [],
   "source": [
    "def accuracy_bs(x, y):\n",
    "    n = len(x)\n",
    "    pred = torch.zeros((n, 120), dtype=torch.float)\n",
    "    for i in range(int((n - 1)/bs) + 1):\n",
    "        start = bs * i\n",
    "        end = bs * (i + 1)\n",
    "        x_dev = x[start:end].float().div(255).to(dev)\n",
    "        output = model_dev(x_dev).to(cpu).detach()\n",
    "        pred[start:end] = output\n",
    "    return accuracy(pred, y)"
   ]
  },
  {
   "cell_type": "code",
   "execution_count": 23,
   "metadata": {},
   "outputs": [],
   "source": [
    "def if_nan(tensor,  name):\n",
    "    has_nan = (tensor != tensor)\n",
    "    if has_nan.any():\n",
    "        print(\"nan in \", name)\n",
    "        print(tensor)\n",
    "        print(has_nan.argmax(dim=1))\n",
    "        return True\n",
    "    if torch.isnan(tensor).any() or torch.isinf(tensor).any():\n",
    "        print(\"nan or inf in \", name)\n",
    "        return True\n",
    "    return False"
   ]
  },
  {
   "cell_type": "code",
   "execution_count": 24,
   "metadata": {},
   "outputs": [],
   "source": [
    "def print_parameters():\n",
    "    total = 0\n",
    "    print(\"Model's state_dict:\")\n",
    "    for param_name in model_dev.state_dict():\n",
    "        p = model_dev.state_dict()[param_name]\n",
    "        print(param_name, p.size(), p.element_size(), p.nelement());\n",
    "        total += p.element_size() * p.nelement()\n",
    "    print(\"Total size is \", total/(2**30))"
   ]
  },
  {
   "cell_type": "code",
   "execution_count": 25,
   "metadata": {},
   "outputs": [],
   "source": [
    "def fit():\n",
    "    train_y_dev[0] = accuracy_bs(x_train, y_train)\n",
    "    \n",
    "    for e in range(epochs):\n",
    "        print(datetime.now(), \"epoch\", e)\n",
    "        random.shuffle(trainData_filename)\n",
    "        for i in range(int((n - 1)/bs) + 1):\n",
    "            start = bs * i\n",
    "            end = bs * (i + 1)\n",
    "            x_train_bs,y_train_bs = filenames2xy(trainData_filename[start:end])\n",
    "            x_train_bs = torch.tensor(x_train_bs).float().div(255).to(dev)\n",
    "            y_train_bs = torch.tensor(y_train_bs).to(dev)\n",
    "            if_nan(x_train_bs, \"x_train\")\n",
    "            pred = model_dev(x_train_bs)\n",
    "            if if_nan(pred, \"pred\"): print_parameters(); print(trainData_filename[start:end])\n",
    "            loss = loss_func(pred, y_train_bs)\n",
    "            if_nan(loss, \"loss\")\n",
    "            loss.backward()\n",
    "        \n",
    "            with torch.no_grad():\n",
    "                for p in model_dev.parameters():\n",
    "                    p -= p.grad * lr\n",
    "                    if_nan(p, \"p\")\n",
    "                model_dev.zero_grad()\n",
    "        with torch.no_grad():\n",
    "            acc_train = accuracy_bs(x_train, y_train)\n",
    "            acc_test = accuracy_bs(x_test, y_test)\n",
    "            acc_val = accuracy_bs(x_val, y_val)\n",
    "            train_y_dev[e + 1] = acc_train\n",
    "            test_y_dev[e + 1] = acc_test\n",
    "            val_y_dev[e + 1] = acc_val\n",
    "            print(\"Epoch {} acc_train {} acc_test {} acc_val {}\".format(e, acc_train, acc_test, acc_val))\n",
    "        \n",
    "    plt.plot(x, train_y_dev.cpu().numpy(), label='train')\n",
    "    plt.plot(x, test_y_dev.cpu().numpy(), label='test')\n",
    "    plt.plot(x, val_y_dev.cpu().numpy(), label='val')\n",
    "    plt.xlabel('epochs')\n",
    "    plt.ylabel('acc')\n",
    "    plt.title(\"Accuracy Plot\")\n",
    "    plt.legend()\n",
    "    plt.show()"
   ]
  },
  {
   "cell_type": "code",
   "execution_count": 26,
   "metadata": {
    "scrolled": true
   },
   "outputs": [
    {
     "name": "stdout",
     "output_type": "stream",
     "text": [
      "2020-04-04 16:17:12.071758 epoch 0\n",
      "Epoch 0 acc_train 0.023014331236481667 acc_test 0.024721279740333557 acc_val 0.01953125\n",
      "2020-04-04 16:18:25.460809 epoch 1\n",
      "Epoch 1 acc_train 0.02999757044017315 acc_test 0.029568590223789215 acc_val 0.02587890625\n",
      "2020-04-04 16:19:39.002071 epoch 2\n",
      "Epoch 2 acc_train 0.04608938470482826 acc_test 0.03926320746541023 acc_val 0.03466796875\n",
      "2020-04-04 16:20:54.810733 epoch 3\n",
      "Epoch 3 acc_train 0.053862035274505615 acc_test 0.044595248997211456 acc_val 0.03271484375\n",
      "2020-04-04 16:22:09.729605 epoch 4\n",
      "Epoch 4 acc_train 0.052222490310668945 acc_test 0.04217159375548363 acc_val 0.03662109375\n",
      "2020-04-04 16:23:25.438918 epoch 5\n",
      "Epoch 5 acc_train 0.05817342549562454 acc_test 0.035385362803936005 acc_val 0.02978515625\n",
      "2020-04-04 16:24:41.376583 epoch 6\n",
      "Epoch 6 acc_train 0.07159339636564255 acc_test 0.04750363528728485 acc_val 0.0419921875\n",
      "2020-04-04 16:28:46.791662 epoch 7\n",
      "Epoch 7 acc_train 0.07025747001171112 acc_test 0.03926320746541023 acc_val 0.04296875\n",
      "2020-04-04 16:30:50.148683 epoch 8\n",
      "Epoch 8 acc_train 0.07918386906385422 acc_test 0.05186621472239494 acc_val 0.0439453125\n",
      "2020-04-04 16:32:04.068411 epoch 9\n",
      "Epoch 9 acc_train 0.08313091844320297 acc_test 0.05332040786743164 acc_val 0.04541015625\n",
      "2020-04-04 16:33:17.530519 epoch 10\n",
      "Epoch 10 acc_train 0.08804955333471298 acc_test 0.04507998004555702 acc_val 0.04296875\n",
      "2020-04-04 16:34:31.075669 epoch 11\n",
      "Epoch 11 acc_train 0.09794753789901733 acc_test 0.049442559480667114 acc_val 0.04931640625\n",
      "2020-04-04 16:35:44.566509 epoch 12\n",
      "Epoch 12 acc_train 0.10183385759592056 acc_test 0.05138148367404938 acc_val 0.04931640625\n",
      "2020-04-04 16:36:57.947940 epoch 13\n",
      "Epoch 13 acc_train 0.1025625467300415 acc_test 0.04895782843232155 acc_val 0.048828125\n",
      "2020-04-04 16:38:11.332332 epoch 14\n",
      "Epoch 14 acc_train 0.10632742196321487 acc_test 0.049442559480667114 acc_val 0.04931640625\n",
      "2020-04-04 16:39:24.672989 epoch 15\n",
      "Epoch 15 acc_train 0.11452513933181763 acc_test 0.049442559480667114 acc_val 0.0458984375\n",
      "2020-04-04 16:40:38.121157 epoch 16\n",
      "Epoch 16 acc_train 0.11707554012537003 acc_test 0.052835676819086075 acc_val 0.04833984375\n",
      "2020-04-04 16:41:51.535200 epoch 17\n",
      "Epoch 17 acc_train 0.12290503084659576 acc_test 0.04992729052901268 acc_val 0.048828125\n",
      "2020-04-04 16:43:04.967795 epoch 18\n",
      "Epoch 18 acc_train 0.12326937168836594 acc_test 0.056228794157505035 acc_val 0.04443359375\n",
      "2020-04-04 16:44:18.444197 epoch 19\n",
      "Epoch 19 acc_train 0.1280665546655655 acc_test 0.05186621472239494 acc_val 0.05126953125\n",
      "2020-04-04 16:45:31.805022 epoch 20\n",
      "Epoch 20 acc_train 0.13492834568023682 acc_test 0.05332040786743164 acc_val 0.05517578125\n",
      "2020-04-04 16:46:45.325106 epoch 21\n",
      "Epoch 21 acc_train 0.1357177495956421 acc_test 0.05913718044757843 acc_val 0.04736328125\n",
      "2020-04-04 16:47:58.632975 epoch 22\n",
      "Epoch 22 acc_train 0.14312605559825897 acc_test 0.04847309738397598 acc_val 0.05517578125\n",
      "2020-04-04 16:49:12.134553 epoch 23\n",
      "Epoch 23 acc_train 0.1434296816587448 acc_test 0.04992729052901268 acc_val 0.0556640625\n",
      "2020-04-04 16:50:25.559108 epoch 24\n",
      "Epoch 24 acc_train 0.15302404761314392 acc_test 0.04992729052901268 acc_val 0.04638671875\n",
      "2020-04-04 16:51:38.952600 epoch 25\n",
      "Epoch 25 acc_train 0.1549064815044403 acc_test 0.044595248997211456 acc_val 0.05029296875\n",
      "2020-04-04 16:52:52.246682 epoch 26\n",
      "Epoch 26 acc_train 0.161464661359787 acc_test 0.049442559480667114 acc_val 0.052734375\n",
      "2020-04-04 16:54:06.311680 epoch 27\n",
      "Epoch 27 acc_train 0.15964294970035553 acc_test 0.050412021577358246 acc_val 0.046875\n",
      "2020-04-04 16:55:21.232908 epoch 28\n",
      "Epoch 28 acc_train 0.1778600960969925 acc_test 0.06059137359261513 acc_val 0.05224609375\n",
      "2020-04-04 16:56:36.196072 epoch 29\n",
      "Epoch 29 acc_train 0.17142336070537567 acc_test 0.04992729052901268 acc_val 0.0537109375\n",
      "2020-04-04 16:57:49.776449 epoch 30\n",
      "Epoch 30 acc_train 0.17603838443756104 acc_test 0.049442559480667114 acc_val 0.05712890625\n",
      "2020-04-04 16:59:03.554517 epoch 31\n",
      "Epoch 31 acc_train 0.1802283227443695 acc_test 0.05768298730254173 acc_val 0.0517578125\n",
      "2020-04-04 17:00:17.444689 epoch 32\n",
      "Epoch 32 acc_train 0.1838110238313675 acc_test 0.06156083196401596 acc_val 0.05615234375\n",
      "2020-04-04 17:01:31.286304 epoch 33\n",
      "Epoch 33 acc_train 0.19929561018943787 acc_test 0.05719825625419617 acc_val 0.0498046875\n",
      "2020-04-04 17:02:45.333640 epoch 34\n",
      "Epoch 34 acc_train 0.19121932983398438 acc_test 0.05235094577074051 acc_val 0.05029296875\n",
      "2020-04-04 17:03:59.024204 epoch 35\n",
      "Epoch 35 acc_train 0.19261598587036133 acc_test 0.0567135252058506 acc_val 0.04931640625\n",
      "2020-04-04 17:05:12.843235 epoch 36\n",
      "Epoch 36 acc_train 0.2029997557401657 acc_test 0.056228794157505035 acc_val 0.05224609375\n",
      "2020-04-04 17:06:26.785229 epoch 37\n",
      "Epoch 37 acc_train 0.21350498497486115 acc_test 0.052835676819086075 acc_val 0.052734375\n",
      "2020-04-04 17:07:40.550248 epoch 38\n",
      "Epoch 38 acc_train 0.2127762883901596 acc_test 0.05719825625419617 acc_val 0.05908203125\n",
      "2020-04-04 17:08:54.412632 epoch 39\n",
      "Epoch 39 acc_train 0.2034248262643814 acc_test 0.052835676819086075 acc_val 0.0546875\n",
      "2020-04-04 17:10:10.694681 epoch 40\n",
      "Epoch 40 acc_train 0.2163590043783188 acc_test 0.05719825625419617 acc_val 0.052734375\n",
      "2020-04-04 17:11:27.461914 epoch 41\n",
      "Epoch 41 acc_train 0.21969881653785706 acc_test 0.05332040786743164 acc_val 0.04736328125\n",
      "2020-04-04 17:12:41.139260 epoch 42\n",
      "Epoch 42 acc_train 0.22607481479644775 acc_test 0.05186621472239494 acc_val 0.05078125\n",
      "2020-04-04 17:13:55.214920 epoch 43\n",
      "Epoch 43 acc_train 0.2287466675043106 acc_test 0.053805138915777206 acc_val 0.05078125\n",
      "2020-04-04 17:15:09.577669 epoch 44\n",
      "Epoch 44 acc_train 0.23506194353103638 acc_test 0.05574406310915947 acc_val 0.05419921875\n",
      "2020-04-04 17:16:24.707742 epoch 45\n",
      "Epoch 45 acc_train 0.23712654411792755 acc_test 0.05332040786743164 acc_val 0.05126953125\n",
      "2020-04-04 17:17:41.400826 epoch 46\n",
      "Epoch 46 acc_train 0.24471703171730042 acc_test 0.053805138915777206 acc_val 0.05322265625\n",
      "2020-04-04 17:18:58.535015 epoch 47\n",
      "Epoch 47 acc_train 0.25716540217399597 acc_test 0.05574406310915947 acc_val 0.056640625\n",
      "2020-04-04 17:20:14.840159 epoch 48\n",
      "Epoch 48 acc_train 0.2507894039154053 acc_test 0.05089675262570381 acc_val 0.0546875\n",
      "2020-04-04 17:21:29.856752 epoch 49\n",
      "Epoch 49 acc_train 0.24113431572914124 acc_test 0.052835676819086075 acc_val 0.04736328125\n"
     ]
    },
    {
     "data": {
      "image/png": "[encoded data removed]",
      "text/plain": [
       "<Figure size 432x288 with 1 Axes>"
      ]
     },
     "metadata": {
      "needs_background": "light"
     },
     "output_type": "display_data"
    }
   ],
   "source": [
    "fit()"
   ]
  }
 ],
 "metadata": {
  "kernelspec": {
   "display_name": "Python 3",
   "language": "python",
   "name": "python3"
  },
  "language_info": {
   "codemirror_mode": {
    "name": "ipython",
    "version": 3
   },
   "file_extension": ".py",
   "mimetype": "text/x-python",
   "name": "python",
   "nbconvert_exporter": "python",
   "pygments_lexer": "ipython3",
   "version": "3.7.4"
  }
 },
 "nbformat": 4,
 "nbformat_minor": 2
}
