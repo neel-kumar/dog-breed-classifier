{
 "cells": [
  {
   "cell_type": "code",
   "execution_count": 1,
   "metadata": {},
   "outputs": [],
   "source": [
    "import os\n",
    "import shutil\n",
    "import numpy as np\n",
    "from sklearn.model_selection import train_test_split"
   ]
  },
  {
   "cell_type": "code",
   "execution_count": 2,
   "metadata": {},
   "outputs": [],
   "source": [
    "# Get all the existing files\n",
    "breed2files = {}\n",
    "\n",
    "for dirpath, dirnames, filenames in os.walk(\"Images\"):\n",
    "    if len(dirnames) == 0 and len(filenames) > 0:\n",
    "        breed2files[dirpath] = filenames"
   ]
  },
  {
   "cell_type": "code",
   "execution_count": 3,
   "metadata": {},
   "outputs": [
    {
     "name": "stdout",
     "output_type": "stream",
     "text": [
      "Error: data - No such file or directory.\n"
     ]
    }
   ],
   "source": [
    "# Data directory is created every time\n",
    "datadir = \"data\"\n",
    "train_dir = \"train\"\n",
    "val_dir = \"val\"\n",
    "\n",
    "\n",
    "try:\n",
    "    shutil.rmtree(datadir)\n",
    "except OSError as e:\n",
    "    print (\"Error: %s - %s.\" % (e.filename, e.strerror))"
   ]
  },
  {
   "cell_type": "code",
   "execution_count": 4,
   "metadata": {},
   "outputs": [],
   "source": [
    "# Copy files from Images to train and val dirs\n",
    "for dirpath, files in breed2files.items():\n",
    "    breed = dirpath[dirpath.find(\"-\")+1:]\n",
    "    os.makedirs(datadir + \"/\" + train_dir + \"/\" + breed)\n",
    "    os.makedirs(datadir + \"/\" + val_dir + \"/\" + breed)\n",
    "    \n",
    "    train, val = train_test_split(files, test_size=0.25)\n",
    "    \n",
    "    for t, f in [(train_dir, train), (val_dir, val)]:\n",
    "        for file in f:\n",
    "            dst = datadir + \"/\" + t + \"/\" + breed + \"/\" + file\n",
    "            shutil.copyfile(dirpath + \"/\" + file, dst)"
   ]
  },
  {
   "cell_type": "code",
   "execution_count": null,
   "metadata": {},
   "outputs": [],
   "source": []
  }
 ],
 "metadata": {
  "kernelspec": {
   "display_name": "Python 3",
   "language": "python",
   "name": "python3"
  },
  "language_info": {
   "codemirror_mode": {
    "name": "ipython",
    "version": 3
   },
   "file_extension": ".py",
   "mimetype": "text/x-python",
   "name": "python",
   "nbconvert_exporter": "python",
   "pygments_lexer": "ipython3",
   "version": "3.7.4"
  }
 },
 "nbformat": 4,
 "nbformat_minor": 2
}
